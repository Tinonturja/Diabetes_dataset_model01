{
 "cells": [
  {
   "cell_type": "markdown",
   "metadata": {
    "id": "bmlFPnL-FGh1"
   },
   "source": [
    "## Import Libraries"
   ]
  },
  {
   "cell_type": "code",
   "execution_count": 1,
   "metadata": {
    "id": "-x_eGACfFMDD"
   },
   "outputs": [],
   "source": [
    "import torch\n",
    "import torch.nn as nn\n",
    "import numpy as np\n",
    "import pandas as pd\n",
    "import matplotlib.pyplot as plt\n",
    "import sklearn\n",
    "from sklearn.preprocessing import MinMaxScaler\n",
    "from sklearn.model_selection import train_test_split,KFold"
   ]
  },
  {
   "cell_type": "markdown",
   "metadata": {
    "id": "1ZbwXyCBGDcR"
   },
   "source": [
    "## Dataset"
   ]
  },
  {
   "cell_type": "code",
   "execution_count": 3,
   "metadata": {
    "colab": {
     "base_uri": "https://localhost:8080/",
     "height": 206
    },
    "id": "YFcO-hqmFvKB",
    "outputId": "5c38981f-66ec-48f4-a7dd-b770eab710d6"
   },
   "outputs": [
    {
     "data": {
      "text/html": [
       "<div>\n",
       "<style scoped>\n",
       "    .dataframe tbody tr th:only-of-type {\n",
       "        vertical-align: middle;\n",
       "    }\n",
       "\n",
       "    .dataframe tbody tr th {\n",
       "        vertical-align: top;\n",
       "    }\n",
       "\n",
       "    .dataframe thead th {\n",
       "        text-align: right;\n",
       "    }\n",
       "</style>\n",
       "<table border=\"1\" class=\"dataframe\">\n",
       "  <thead>\n",
       "    <tr style=\"text-align: right;\">\n",
       "      <th></th>\n",
       "      <th>6</th>\n",
       "      <th>148</th>\n",
       "      <th>72</th>\n",
       "      <th>35</th>\n",
       "      <th>0</th>\n",
       "      <th>33.6</th>\n",
       "      <th>0.627</th>\n",
       "      <th>50</th>\n",
       "      <th>1</th>\n",
       "    </tr>\n",
       "  </thead>\n",
       "  <tbody>\n",
       "    <tr>\n",
       "      <th>0</th>\n",
       "      <td>1</td>\n",
       "      <td>85</td>\n",
       "      <td>66</td>\n",
       "      <td>29</td>\n",
       "      <td>0</td>\n",
       "      <td>26.6</td>\n",
       "      <td>0.351</td>\n",
       "      <td>31</td>\n",
       "      <td>0</td>\n",
       "    </tr>\n",
       "    <tr>\n",
       "      <th>1</th>\n",
       "      <td>8</td>\n",
       "      <td>183</td>\n",
       "      <td>64</td>\n",
       "      <td>0</td>\n",
       "      <td>0</td>\n",
       "      <td>23.3</td>\n",
       "      <td>0.672</td>\n",
       "      <td>32</td>\n",
       "      <td>1</td>\n",
       "    </tr>\n",
       "    <tr>\n",
       "      <th>2</th>\n",
       "      <td>1</td>\n",
       "      <td>89</td>\n",
       "      <td>66</td>\n",
       "      <td>23</td>\n",
       "      <td>94</td>\n",
       "      <td>28.1</td>\n",
       "      <td>0.167</td>\n",
       "      <td>21</td>\n",
       "      <td>0</td>\n",
       "    </tr>\n",
       "    <tr>\n",
       "      <th>3</th>\n",
       "      <td>0</td>\n",
       "      <td>137</td>\n",
       "      <td>40</td>\n",
       "      <td>35</td>\n",
       "      <td>168</td>\n",
       "      <td>43.1</td>\n",
       "      <td>2.288</td>\n",
       "      <td>33</td>\n",
       "      <td>1</td>\n",
       "    </tr>\n",
       "    <tr>\n",
       "      <th>4</th>\n",
       "      <td>5</td>\n",
       "      <td>116</td>\n",
       "      <td>74</td>\n",
       "      <td>0</td>\n",
       "      <td>0</td>\n",
       "      <td>25.6</td>\n",
       "      <td>0.201</td>\n",
       "      <td>30</td>\n",
       "      <td>0</td>\n",
       "    </tr>\n",
       "  </tbody>\n",
       "</table>\n",
       "</div>"
      ],
      "text/plain": [
       "   6  148  72  35    0  33.6  0.627  50  1\n",
       "0  1   85  66  29    0  26.6  0.351  31  0\n",
       "1  8  183  64   0    0  23.3  0.672  32  1\n",
       "2  1   89  66  23   94  28.1  0.167  21  0\n",
       "3  0  137  40  35  168  43.1  2.288  33  1\n",
       "4  5  116  74   0    0  25.6  0.201  30  0"
      ]
     },
     "execution_count": 3,
     "metadata": {},
     "output_type": "execute_result"
    }
   ],
   "source": [
    "#load the dataset\n",
    "diabetes_dataset = pd.read_csv('/Users/tinonturjamajumder/Downloads/pima-indians-diabetes.csv')\n",
    "diabetes_dataset.head()"
   ]
  },
  {
   "cell_type": "code",
   "execution_count": 4,
   "metadata": {
    "id": "iKcFQItDGAjZ"
   },
   "outputs": [],
   "source": [
    "#turn the dataset into numpy values\n",
    "diabet_data = diabetes_dataset.to_numpy()\n"
   ]
  },
  {
   "cell_type": "code",
   "execution_count": 5,
   "metadata": {
    "id": "ClDshZRRHqSe"
   },
   "outputs": [],
   "source": [
    "X = diabet_data[:,:8]\n",
    "y = diabet_data[:,8]"
   ]
  },
  {
   "cell_type": "code",
   "execution_count": 6,
   "metadata": {
    "colab": {
     "base_uri": "https://localhost:8080/"
    },
    "id": "I3Fp0oqgH2UF",
    "outputId": "010be934-5d34-419e-9d08-0154131e3877"
   },
   "outputs": [
    {
     "data": {
      "text/plain": [
       "((767, 8), (767,))"
      ]
     },
     "execution_count": 6,
     "metadata": {},
     "output_type": "execute_result"
    }
   ],
   "source": [
    "X.shape,y.shape"
   ]
  },
  {
   "cell_type": "markdown",
   "metadata": {
    "id": "pm_7oP6hINgf"
   },
   "source": [
    "## Device Agnostic Code"
   ]
  },
  {
   "cell_type": "code",
   "execution_count": 7,
   "metadata": {
    "colab": {
     "base_uri": "https://localhost:8080/",
     "height": 37
    },
    "id": "OwIxW-EbIrXk",
    "outputId": "3bbd2506-f241-457b-99f7-ee6e3a59d875"
   },
   "outputs": [
    {
     "data": {
      "text/plain": [
       "'cpu'"
      ]
     },
     "execution_count": 7,
     "metadata": {},
     "output_type": "execute_result"
    }
   ],
   "source": [
    "device = 'cuda' if torch.cuda.is_available() else 'cpu'\n",
    "device"
   ]
  },
  {
   "cell_type": "markdown",
   "metadata": {
    "id": "qRjTMQrtIx5R"
   },
   "source": [
    "## Splitting data"
   ]
  },
  {
   "cell_type": "code",
   "execution_count": 8,
   "metadata": {
    "id": "OOfMRBk3JAb-"
   },
   "outputs": [],
   "source": [
    "def splitting_data(X,y,test_size):\n",
    "  X_train,X_test,y_train,y_test = train_test_split(X,y,test_size=test_size)\n",
    "  return X_train,X_test,y_train,y_test"
   ]
  },
  {
   "cell_type": "markdown",
   "metadata": {
    "id": "ZuVU6dH7JgC3"
   },
   "source": [
    "## Scaling data"
   ]
  },
  {
   "cell_type": "code",
   "execution_count": 9,
   "metadata": {
    "id": "pHfI9EUvJis-"
   },
   "outputs": [],
   "source": [
    "def scaled_data(X_train,X_test):\n",
    "  scaler = MinMaxScaler()\n",
    "  X_train = scaler.fit_transform(X_train)\n",
    "  X_test = scaler.transform(X_test)\n",
    "  return X_train,X_test"
   ]
  },
  {
   "cell_type": "markdown",
   "metadata": {
    "id": "Ov3OeaJYJxbO"
   },
   "source": [
    "## Model"
   ]
  },
  {
   "cell_type": "code",
   "execution_count": 10,
   "metadata": {
    "id": "107NHiWcJ6d2"
   },
   "outputs": [],
   "source": [
    "class ClassificationModelv1(nn.Module):\n",
    "  def __init__(self,l1,l2):\n",
    "    super().__init__()\n",
    "    self.layer1 = nn.Linear(in_features=8,\n",
    "                            out_features=l1)\n",
    "    self.layer2 = nn.Linear(in_features=l1,\n",
    "                            out_features=l2)\n",
    "    self.layer3 = nn.Linear(in_features=l2,\n",
    "                            out_features = 1)\n",
    "\n",
    "    #activation function\n",
    "    self.relu = nn.ReLU()\n",
    "\n",
    "\n",
    "  def forward(self,x):\n",
    "    return self.layer3(self.relu(self.layer2(self.relu(self.layer1(x)))))"
   ]
  },
  {
   "cell_type": "code",
   "execution_count": 11,
   "metadata": {
    "id": "cfdyfqNgM37a"
   },
   "outputs": [],
   "source": [
    "model_1 = ClassificationModelv1(10,8).to(device)"
   ]
  },
  {
   "cell_type": "markdown",
   "metadata": {
    "id": "v9NRhpf2NuJg"
   },
   "source": [
    "## Training and Testing"
   ]
  },
  {
   "cell_type": "code",
   "execution_count": 12,
   "metadata": {
    "id": "UJU5WKI7Ntgp"
   },
   "outputs": [],
   "source": [
    "def train_test(X_train,y_train,X_test,y_test,epochs,model,lr = 0.001):\n",
    "  #scaled the data\n",
    "  X_train,X_test = scaled_data(X_train,X_test)\n",
    "\n",
    "  #convert torch to tensors\n",
    "  X_train = torch.tensor(X_train,dtype = torch.float32).to(device)\n",
    "  y_train = torch.tensor(y_train,dtype = torch.float32).to(device).squeeze()\n",
    "  X_test = torch.tensor(X_test,dtype = torch.float32).to(device)\n",
    "  y_test = torch.tensor(y_test,dtype = torch.float32).to(device).squeeze()\n",
    "  model = model.to(device)\n",
    "  train_loss_list = []\n",
    "  test_loss_list = []\n",
    "  train_accuracies = []\n",
    "  test_accuracies =[]\n",
    "  #loss function\n",
    "  loss_fn = nn.BCEWithLogitsLoss()\n",
    "\n",
    "  #optimizer\n",
    "  optimizer = torch.optim.Adam(model.parameters(),\n",
    "                               lr = lr)\n",
    "\n",
    "  #train the model\n",
    "  for epoch in range(epochs):\n",
    "    model.train()\n",
    "\n",
    "    #training data\n",
    "    train_pred = model(X_train).squeeze()\n",
    "    train_loss = loss_fn(train_pred,y_train)\n",
    "    train_loss_list.append(train_loss.item())\n",
    "    optimizer.zero_grad()\n",
    "    train_loss.backward()\n",
    "    optimizer.step()\n",
    "    train_accuracy = ((train_pred.round() == y_train).float().mean()).item()\n",
    "    train_accuracies.append(train_accuracy)\n",
    "    #testing the model\n",
    "    with torch.inference_mode():\n",
    "      model.eval()\n",
    "      test_pred = model(X_test).squeeze()\n",
    "      test_loss = loss_fn(test_pred,y_test)\n",
    "      test_loss_list.append(test_loss.item())\n",
    "\n",
    "      test_accuracy = ((test_pred.round() == y_test).float().mean()).item()\n",
    "      test_accuracies.append(test_accuracy)\n",
    "    if epoch %10 ==0:\n",
    "      print(f\"Train_loss: {train_loss}  | Test_loss: {test_loss}  | Train_accuracy: {train_accuracy}  | Test_accuracy: {test_accuracy}\")\n",
    "\n",
    "  return train_loss_list,test_loss_list,train_accuracies,test_accuracies\n"
   ]
  },
  {
   "cell_type": "markdown",
   "metadata": {
    "id": "u58CjeuDNs20"
   },
   "source": [
    "## Task-1 & Task-5"
   ]
  },
  {
   "cell_type": "code",
   "execution_count": null,
   "metadata": {
    "colab": {
     "base_uri": "https://localhost:8080/",
     "height": 1000
    },
    "id": "rc3FK-DIURZ7",
    "outputId": "4c52e6df-780a-4413-c1fd-6025ff9d5c01"
   },
   "outputs": [],
   "source": []
  },
  {
   "cell_type": "markdown",
   "metadata": {
    "id": "Q0EbEUdRZInV"
   },
   "source": [
    "## Task-2"
   ]
  },
  {
   "cell_type": "code",
   "execution_count": null,
   "metadata": {
    "id": "AfCy9WC5ZNAo"
   },
   "outputs": [],
   "source": []
  },
  {
   "cell_type": "code",
   "execution_count": null,
   "metadata": {
    "id": "35yl75u-ZNfZ"
   },
   "outputs": [],
   "source": []
  },
  {
   "cell_type": "code",
   "execution_count": null,
   "metadata": {
    "id": "Vitr6-gRZNr3"
   },
   "outputs": [],
   "source": []
  }
 ],
 "metadata": {
  "accelerator": "GPU",
  "colab": {
   "gpuType": "T4",
   "provenance": []
  },
  "kernelspec": {
   "display_name": "Python 3 (ipykernel)",
   "language": "python",
   "name": "python3"
  },
  "language_info": {
   "codemirror_mode": {
    "name": "ipython",
    "version": 3
   },
   "file_extension": ".py",
   "mimetype": "text/x-python",
   "name": "python",
   "nbconvert_exporter": "python",
   "pygments_lexer": "ipython3",
   "version": "3.11.5"
  }
 },
 "nbformat": 4,
 "nbformat_minor": 4
}
